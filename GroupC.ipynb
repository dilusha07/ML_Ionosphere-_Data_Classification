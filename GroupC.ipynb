{
  "nbformat": 4,
  "nbformat_minor": 0,
  "metadata": {
    "colab": {
      "provenance": [],
      "include_colab_link": true
    },
    "kernelspec": {
      "name": "python3",
      "display_name": "Python 3"
    },
    "language_info": {
      "name": "python"
    }
  },
  "cells": [
    {
      "cell_type": "markdown",
      "metadata": {
        "id": "view-in-github",
        "colab_type": "text"
      },
      "source": [
        "<a href=\"https://colab.research.google.com/github/dilusha07/ML_Ionosphere-_Data_Classification/blob/main/GroupC.ipynb\" target=\"_parent\"><img src=\"https://colab.research.google.com/assets/colab-badge.svg\" alt=\"Open In Colab\"/></a>"
      ]
    },
    {
      "cell_type": "markdown",
      "source": [
        "01)"
      ],
      "metadata": {
        "id": "ggE6xX1tZMKC"
      }
    },
    {
      "cell_type": "code",
      "execution_count": null,
      "metadata": {
        "id": "16WJ3W7nUuwU"
      },
      "outputs": [],
      "source": [
        "import numpy as np\n",
        "import pandas as pd"
      ]
    },
    {
      "cell_type": "code",
      "source": [
        "!pip install scikit-learn"
      ],
      "metadata": {
        "id": "vXQvbkfayRrk"
      },
      "execution_count": null,
      "outputs": []
    },
    {
      "cell_type": "code",
      "source": [
        "import sklearn"
      ],
      "metadata": {
        "id": "ARqlxXBlyc87"
      },
      "execution_count": null,
      "outputs": []
    },
    {
      "cell_type": "code",
      "source": [
        "from sklearn import datasets"
      ],
      "metadata": {
        "id": "tLg4tEqzyg8Q"
      },
      "execution_count": null,
      "outputs": []
    },
    {
      "cell_type": "code",
      "source": [
        "#import dataset\n",
        "from google.colab import drive\n",
        "drive.mount('/content/gdrive')"
      ],
      "metadata": {
        "colab": {
          "base_uri": "https://localhost:8080/"
        },
        "id": "iHoFBlz-y0Lu",
        "outputId": "2c2f972c-71a8-4f33-d30b-13da214247f0"
      },
      "execution_count": null,
      "outputs": [
        {
          "output_type": "stream",
          "name": "stdout",
          "text": [
            "Drive already mounted at /content/gdrive; to attempt to forcibly remount, call drive.mount(\"/content/gdrive\", force_remount=True).\n"
          ]
        }
      ]
    },
    {
      "cell_type": "code",
      "source": [
        "df = pd.read_csv(\n",
        "'/content/gdrive/My Drive/dataset.csv')"
      ],
      "metadata": {
        "id": "hBVfWVOPzyJt"
      },
      "execution_count": null,
      "outputs": []
    },
    {
      "cell_type": "code",
      "source": [
        "#first 5 data points\n",
        "df.head(5)"
      ],
      "metadata": {
        "colab": {
          "base_uri": "https://localhost:8080/",
          "height": 317
        },
        "id": "x8XV7B5mZgID",
        "outputId": "14b57fb8-183e-44f6-ef79-d95237c59979"
      },
      "execution_count": null,
      "outputs": [
        {
          "output_type": "execute_result",
          "data": {
            "text/plain": [
              "   diagnosis  radius_mean  texture_mean  area_mean  smoothness_mean  \\\n",
              "0   2.212902     2.128398      1.841711   0.082382         0.858964   \n",
              "1   0.276132     0.162560     -0.435673   0.096421        -1.886851   \n",
              "2   0.317723    -0.293033      0.854137  -0.513025        -0.872562   \n",
              "3  -0.539934     1.767377     -0.350113  -1.354933         0.428016   \n",
              "4  -0.002838    -1.300181      0.042617  -1.193667         0.038868   \n",
              "\n",
              "   compactness_mean  concavity_mean  concave points_mean  symmetry_mean  \\\n",
              "0         -0.826016        1.157271             1.375915       0.943028   \n",
              "1          0.580846        3.287246             0.208879      -0.519715   \n",
              "2          0.176642       -0.559319            -0.489247      -0.562086   \n",
              "3          0.374755       -0.190795            -1.036393       0.121548   \n",
              "4          0.849344       -1.400895             0.943826       0.589136   \n",
              "\n",
              "   fractal_dimension_mean  ...  radius_worst  texture_worst  perimeter_worst  \\\n",
              "0                0.847871  ...     -1.068834       0.189931        -0.055537   \n",
              "1                2.024257  ...     -0.430787      -0.130656        -0.971357   \n",
              "2               -0.794062  ...     -0.818470       0.522515         0.676882   \n",
              "3                0.954531  ...      2.226641      -0.279936        -2.051145   \n",
              "4               -0.097222  ...     -0.286793       0.328699        -0.422676   \n",
              "\n",
              "   area_worst  smoothness_worst  compactness_worst  concavity_worst  \\\n",
              "0    1.062443          0.579647          -0.320222        -0.269756   \n",
              "1   -1.718952         -0.706840          -0.636780         0.123011   \n",
              "2   -0.508541         -0.146186           1.351959         1.905433   \n",
              "3    0.122031          0.482489          -1.034198         0.909865   \n",
              "4   -0.045516         -1.710315          -0.546598        -1.056129   \n",
              "\n",
              "   concave points_worst  symmetry_worst  fractal_dimension_worst  \n",
              "0              0.323214        1.374336                -0.204943  \n",
              "1              0.694192        1.055958                 0.382461  \n",
              "2              0.498425        1.868022                -0.062160  \n",
              "3              1.220988       -1.565968                 0.550540  \n",
              "4             -0.719254       -1.515736                -0.467234  \n",
              "\n",
              "[5 rows x 30 columns]"
            ],
            "text/html": [
              "\n",
              "  <div id=\"df-2b652565-620c-40f9-a367-4c62ee2bb849\">\n",
              "    <div class=\"colab-df-container\">\n",
              "      <div>\n",
              "<style scoped>\n",
              "    .dataframe tbody tr th:only-of-type {\n",
              "        vertical-align: middle;\n",
              "    }\n",
              "\n",
              "    .dataframe tbody tr th {\n",
              "        vertical-align: top;\n",
              "    }\n",
              "\n",
              "    .dataframe thead th {\n",
              "        text-align: right;\n",
              "    }\n",
              "</style>\n",
              "<table border=\"1\" class=\"dataframe\">\n",
              "  <thead>\n",
              "    <tr style=\"text-align: right;\">\n",
              "      <th></th>\n",
              "      <th>diagnosis</th>\n",
              "      <th>radius_mean</th>\n",
              "      <th>texture_mean</th>\n",
              "      <th>area_mean</th>\n",
              "      <th>smoothness_mean</th>\n",
              "      <th>compactness_mean</th>\n",
              "      <th>concavity_mean</th>\n",
              "      <th>concave points_mean</th>\n",
              "      <th>symmetry_mean</th>\n",
              "      <th>fractal_dimension_mean</th>\n",
              "      <th>...</th>\n",
              "      <th>radius_worst</th>\n",
              "      <th>texture_worst</th>\n",
              "      <th>perimeter_worst</th>\n",
              "      <th>area_worst</th>\n",
              "      <th>smoothness_worst</th>\n",
              "      <th>compactness_worst</th>\n",
              "      <th>concavity_worst</th>\n",
              "      <th>concave points_worst</th>\n",
              "      <th>symmetry_worst</th>\n",
              "      <th>fractal_dimension_worst</th>\n",
              "    </tr>\n",
              "  </thead>\n",
              "  <tbody>\n",
              "    <tr>\n",
              "      <th>0</th>\n",
              "      <td>2.212902</td>\n",
              "      <td>2.128398</td>\n",
              "      <td>1.841711</td>\n",
              "      <td>0.082382</td>\n",
              "      <td>0.858964</td>\n",
              "      <td>-0.826016</td>\n",
              "      <td>1.157271</td>\n",
              "      <td>1.375915</td>\n",
              "      <td>0.943028</td>\n",
              "      <td>0.847871</td>\n",
              "      <td>...</td>\n",
              "      <td>-1.068834</td>\n",
              "      <td>0.189931</td>\n",
              "      <td>-0.055537</td>\n",
              "      <td>1.062443</td>\n",
              "      <td>0.579647</td>\n",
              "      <td>-0.320222</td>\n",
              "      <td>-0.269756</td>\n",
              "      <td>0.323214</td>\n",
              "      <td>1.374336</td>\n",
              "      <td>-0.204943</td>\n",
              "    </tr>\n",
              "    <tr>\n",
              "      <th>1</th>\n",
              "      <td>0.276132</td>\n",
              "      <td>0.162560</td>\n",
              "      <td>-0.435673</td>\n",
              "      <td>0.096421</td>\n",
              "      <td>-1.886851</td>\n",
              "      <td>0.580846</td>\n",
              "      <td>3.287246</td>\n",
              "      <td>0.208879</td>\n",
              "      <td>-0.519715</td>\n",
              "      <td>2.024257</td>\n",
              "      <td>...</td>\n",
              "      <td>-0.430787</td>\n",
              "      <td>-0.130656</td>\n",
              "      <td>-0.971357</td>\n",
              "      <td>-1.718952</td>\n",
              "      <td>-0.706840</td>\n",
              "      <td>-0.636780</td>\n",
              "      <td>0.123011</td>\n",
              "      <td>0.694192</td>\n",
              "      <td>1.055958</td>\n",
              "      <td>0.382461</td>\n",
              "    </tr>\n",
              "    <tr>\n",
              "      <th>2</th>\n",
              "      <td>0.317723</td>\n",
              "      <td>-0.293033</td>\n",
              "      <td>0.854137</td>\n",
              "      <td>-0.513025</td>\n",
              "      <td>-0.872562</td>\n",
              "      <td>0.176642</td>\n",
              "      <td>-0.559319</td>\n",
              "      <td>-0.489247</td>\n",
              "      <td>-0.562086</td>\n",
              "      <td>-0.794062</td>\n",
              "      <td>...</td>\n",
              "      <td>-0.818470</td>\n",
              "      <td>0.522515</td>\n",
              "      <td>0.676882</td>\n",
              "      <td>-0.508541</td>\n",
              "      <td>-0.146186</td>\n",
              "      <td>1.351959</td>\n",
              "      <td>1.905433</td>\n",
              "      <td>0.498425</td>\n",
              "      <td>1.868022</td>\n",
              "      <td>-0.062160</td>\n",
              "    </tr>\n",
              "    <tr>\n",
              "      <th>3</th>\n",
              "      <td>-0.539934</td>\n",
              "      <td>1.767377</td>\n",
              "      <td>-0.350113</td>\n",
              "      <td>-1.354933</td>\n",
              "      <td>0.428016</td>\n",
              "      <td>0.374755</td>\n",
              "      <td>-0.190795</td>\n",
              "      <td>-1.036393</td>\n",
              "      <td>0.121548</td>\n",
              "      <td>0.954531</td>\n",
              "      <td>...</td>\n",
              "      <td>2.226641</td>\n",
              "      <td>-0.279936</td>\n",
              "      <td>-2.051145</td>\n",
              "      <td>0.122031</td>\n",
              "      <td>0.482489</td>\n",
              "      <td>-1.034198</td>\n",
              "      <td>0.909865</td>\n",
              "      <td>1.220988</td>\n",
              "      <td>-1.565968</td>\n",
              "      <td>0.550540</td>\n",
              "    </tr>\n",
              "    <tr>\n",
              "      <th>4</th>\n",
              "      <td>-0.002838</td>\n",
              "      <td>-1.300181</td>\n",
              "      <td>0.042617</td>\n",
              "      <td>-1.193667</td>\n",
              "      <td>0.038868</td>\n",
              "      <td>0.849344</td>\n",
              "      <td>-1.400895</td>\n",
              "      <td>0.943826</td>\n",
              "      <td>0.589136</td>\n",
              "      <td>-0.097222</td>\n",
              "      <td>...</td>\n",
              "      <td>-0.286793</td>\n",
              "      <td>0.328699</td>\n",
              "      <td>-0.422676</td>\n",
              "      <td>-0.045516</td>\n",
              "      <td>-1.710315</td>\n",
              "      <td>-0.546598</td>\n",
              "      <td>-1.056129</td>\n",
              "      <td>-0.719254</td>\n",
              "      <td>-1.515736</td>\n",
              "      <td>-0.467234</td>\n",
              "    </tr>\n",
              "  </tbody>\n",
              "</table>\n",
              "<p>5 rows × 30 columns</p>\n",
              "</div>\n",
              "      <button class=\"colab-df-convert\" onclick=\"convertToInteractive('df-2b652565-620c-40f9-a367-4c62ee2bb849')\"\n",
              "              title=\"Convert this dataframe to an interactive table.\"\n",
              "              style=\"display:none;\">\n",
              "        \n",
              "  <svg xmlns=\"http://www.w3.org/2000/svg\" height=\"24px\"viewBox=\"0 0 24 24\"\n",
              "       width=\"24px\">\n",
              "    <path d=\"M0 0h24v24H0V0z\" fill=\"none\"/>\n",
              "    <path d=\"M18.56 5.44l.94 2.06.94-2.06 2.06-.94-2.06-.94-.94-2.06-.94 2.06-2.06.94zm-11 1L8.5 8.5l.94-2.06 2.06-.94-2.06-.94L8.5 2.5l-.94 2.06-2.06.94zm10 10l.94 2.06.94-2.06 2.06-.94-2.06-.94-.94-2.06-.94 2.06-2.06.94z\"/><path d=\"M17.41 7.96l-1.37-1.37c-.4-.4-.92-.59-1.43-.59-.52 0-1.04.2-1.43.59L10.3 9.45l-7.72 7.72c-.78.78-.78 2.05 0 2.83L4 21.41c.39.39.9.59 1.41.59.51 0 1.02-.2 1.41-.59l7.78-7.78 2.81-2.81c.8-.78.8-2.07 0-2.86zM5.41 20L4 18.59l7.72-7.72 1.47 1.35L5.41 20z\"/>\n",
              "  </svg>\n",
              "      </button>\n",
              "      \n",
              "  <style>\n",
              "    .colab-df-container {\n",
              "      display:flex;\n",
              "      flex-wrap:wrap;\n",
              "      gap: 12px;\n",
              "    }\n",
              "\n",
              "    .colab-df-convert {\n",
              "      background-color: #E8F0FE;\n",
              "      border: none;\n",
              "      border-radius: 50%;\n",
              "      cursor: pointer;\n",
              "      display: none;\n",
              "      fill: #1967D2;\n",
              "      height: 32px;\n",
              "      padding: 0 0 0 0;\n",
              "      width: 32px;\n",
              "    }\n",
              "\n",
              "    .colab-df-convert:hover {\n",
              "      background-color: #E2EBFA;\n",
              "      box-shadow: 0px 1px 2px rgba(60, 64, 67, 0.3), 0px 1px 3px 1px rgba(60, 64, 67, 0.15);\n",
              "      fill: #174EA6;\n",
              "    }\n",
              "\n",
              "    [theme=dark] .colab-df-convert {\n",
              "      background-color: #3B4455;\n",
              "      fill: #D2E3FC;\n",
              "    }\n",
              "\n",
              "    [theme=dark] .colab-df-convert:hover {\n",
              "      background-color: #434B5C;\n",
              "      box-shadow: 0px 1px 3px 1px rgba(0, 0, 0, 0.15);\n",
              "      filter: drop-shadow(0px 1px 2px rgba(0, 0, 0, 0.3));\n",
              "      fill: #FFFFFF;\n",
              "    }\n",
              "  </style>\n",
              "\n",
              "      <script>\n",
              "        const buttonEl =\n",
              "          document.querySelector('#df-2b652565-620c-40f9-a367-4c62ee2bb849 button.colab-df-convert');\n",
              "        buttonEl.style.display =\n",
              "          google.colab.kernel.accessAllowed ? 'block' : 'none';\n",
              "\n",
              "        async function convertToInteractive(key) {\n",
              "          const element = document.querySelector('#df-2b652565-620c-40f9-a367-4c62ee2bb849');\n",
              "          const dataTable =\n",
              "            await google.colab.kernel.invokeFunction('convertToInteractive',\n",
              "                                                     [key], {});\n",
              "          if (!dataTable) return;\n",
              "\n",
              "          const docLinkHtml = 'Like what you see? Visit the ' +\n",
              "            '<a target=\"_blank\" href=https://colab.research.google.com/notebooks/data_table.ipynb>data table notebook</a>'\n",
              "            + ' to learn more about interactive tables.';\n",
              "          element.innerHTML = '';\n",
              "          dataTable['output_type'] = 'display_data';\n",
              "          await google.colab.output.renderOutput(dataTable, element);\n",
              "          const docLink = document.createElement('div');\n",
              "          docLink.innerHTML = docLinkHtml;\n",
              "          element.appendChild(docLink);\n",
              "        }\n",
              "      </script>\n",
              "    </div>\n",
              "  </div>\n",
              "  "
            ]
          },
          "metadata": {},
          "execution_count": 93
        }
      ]
    },
    {
      "cell_type": "markdown",
      "source": [
        "02)"
      ],
      "metadata": {
        "id": "zmqlzJ1sZnG7"
      }
    },
    {
      "cell_type": "code",
      "source": [
        "#count the number of missing values\n",
        "df.isnull().sum()"
      ],
      "metadata": {
        "colab": {
          "base_uri": "https://localhost:8080/"
        },
        "id": "FIftvfNx0wy3",
        "outputId": "ed27d277-73db-406f-caa7-0e91473522bf"
      },
      "execution_count": null,
      "outputs": [
        {
          "output_type": "execute_result",
          "data": {
            "text/plain": [
              "id                         0\n",
              "diagnosis                  0\n",
              "radius_mean                0\n",
              "texture_mean               2\n",
              "perimeter_mean             6\n",
              "area_mean                  7\n",
              "smoothness_mean            8\n",
              "compactness_mean           0\n",
              "concavity_mean             9\n",
              "concave points_mean        1\n",
              "symmetry_mean              3\n",
              "fractal_dimension_mean     4\n",
              "radius_se                  5\n",
              "texture_se                 3\n",
              "perimeter_se               1\n",
              "area_se                    0\n",
              "smoothness_se              0\n",
              "compactness_se             2\n",
              "concavity_se               1\n",
              "concave points_se          4\n",
              "symmetry_se                0\n",
              "fractal_dimension_se       1\n",
              "radius_worst               0\n",
              "texture_worst              0\n",
              "perimeter_worst            0\n",
              "area_worst                 0\n",
              "smoothness_worst           0\n",
              "compactness_worst          0\n",
              "concavity_worst            0\n",
              "concave points_worst       0\n",
              "symmetry_worst             0\n",
              "fractal_dimension_worst    0\n",
              "dtype: int64"
            ]
          },
          "metadata": {},
          "execution_count": 49
        }
      ]
    },
    {
      "cell_type": "code",
      "source": [
        "#identify columns that have missing values\n",
        "df.info()"
      ],
      "metadata": {
        "colab": {
          "base_uri": "https://localhost:8080/"
        },
        "id": "AKPrKFCx1g7O",
        "outputId": "c7383f19-8016-418b-86cd-00b47d4ec4ee"
      },
      "execution_count": null,
      "outputs": [
        {
          "output_type": "stream",
          "name": "stdout",
          "text": [
            "<class 'pandas.core.frame.DataFrame'>\n",
            "RangeIndex: 569 entries, 0 to 568\n",
            "Data columns (total 32 columns):\n",
            " #   Column                   Non-Null Count  Dtype  \n",
            "---  ------                   --------------  -----  \n",
            " 0   id                       569 non-null    int64  \n",
            " 1   diagnosis                569 non-null    object \n",
            " 2   radius_mean              569 non-null    float64\n",
            " 3   texture_mean             567 non-null    float64\n",
            " 4   perimeter_mean           563 non-null    float64\n",
            " 5   area_mean                562 non-null    float64\n",
            " 6   smoothness_mean          561 non-null    object \n",
            " 7   compactness_mean         569 non-null    float64\n",
            " 8   concavity_mean           560 non-null    float64\n",
            " 9   concave points_mean      568 non-null    float64\n",
            " 10  symmetry_mean            566 non-null    float64\n",
            " 11  fractal_dimension_mean   565 non-null    float64\n",
            " 12  radius_se                564 non-null    float64\n",
            " 13  texture_se               566 non-null    object \n",
            " 14  perimeter_se             568 non-null    float64\n",
            " 15  area_se                  569 non-null    object \n",
            " 16  smoothness_se            569 non-null    object \n",
            " 17  compactness_se           567 non-null    float64\n",
            " 18  concavity_se             568 non-null    object \n",
            " 19  concave points_se        565 non-null    object \n",
            " 20  symmetry_se              569 non-null    float64\n",
            " 21  fractal_dimension_se     568 non-null    float64\n",
            " 22  radius_worst             569 non-null    float64\n",
            " 23  texture_worst            569 non-null    float64\n",
            " 24  perimeter_worst          569 non-null    float64\n",
            " 25  area_worst               569 non-null    float64\n",
            " 26  smoothness_worst         569 non-null    float64\n",
            " 27  compactness_worst        569 non-null    float64\n",
            " 28  concavity_worst          569 non-null    float64\n",
            " 29  concave points_worst     569 non-null    float64\n",
            " 30  symmetry_worst           569 non-null    float64\n",
            " 31  fractal_dimension_worst  569 non-null    float64\n",
            "dtypes: float64(24), int64(1), object(7)\n",
            "memory usage: 142.4+ KB\n"
          ]
        }
      ]
    },
    {
      "cell_type": "markdown",
      "source": [
        "03)"
      ],
      "metadata": {
        "id": "qlW2vPECZ66H"
      }
    },
    {
      "cell_type": "code",
      "source": [
        "#Impute the missing values by the median value of those column/columns\n",
        "df['texture_mean']=df['texture_mean'].fillna(df['texture_mean'].median())\n",
        "df['perimeter_mean']=df['perimeter_mean'].fillna(df['perimeter_mean'].median())\n",
        "df['area_mean']=df['area_mean'].fillna(df['area_mean'].median())\n",
        "df['concavity_mean']=df['concavity_mean'].fillna(df['concavity_mean'].median())\n",
        "df['concave points_mean']=df['concave points_mean'].fillna(df['concave points_mean'].median())\n",
        "df['symmetry_mean']=df['symmetry_mean'].fillna(df['symmetry_mean'].median())\n",
        "df['fractal_dimension_mean']=df['fractal_dimension_mean'].fillna(df['fractal_dimension_mean'].median())\n",
        "df['radius_se']=df['radius_se'].fillna(df['radius_se'].median())\n",
        "df['perimeter_se']=df['perimeter_se'].fillna(df['perimeter_se'].median())\n",
        "df['compactness_se']=df['compactness_se'].fillna(df['compactness_se'].median())\n",
        "df['fractal_dimension_se']=df['fractal_dimension_se'].fillna(df['fractal_dimension_se'].median())\n",
        "\n",
        "df['concave points_se']=df['concave points_se'].fillna(df['concave points_se'].mode()[0])\n",
        "df['concavity_se']=df['concavity_se'].fillna(df['concavity_se'].mode()[0])\n",
        "df['texture_se']=df['texture_se'].fillna(df['texture_se'].mode()[0])\n",
        "df['smoothness_mean']=df['smoothness_mean'].fillna(df['smoothness_mean'].mode()[0])\n",
        "\n"
      ],
      "metadata": {
        "id": "iUjlv2w4I3tj"
      },
      "execution_count": null,
      "outputs": []
    },
    {
      "cell_type": "code",
      "source": [
        "#sum of missing values after replacing by median values\n",
        "df.isnull().sum()"
      ],
      "metadata": {
        "colab": {
          "base_uri": "https://localhost:8080/"
        },
        "id": "iIi0XeXYHeMk",
        "outputId": "5904f482-4ee3-481e-abc7-656ae71f9526"
      },
      "execution_count": null,
      "outputs": [
        {
          "output_type": "execute_result",
          "data": {
            "text/plain": [
              "id                         0\n",
              "diagnosis                  0\n",
              "radius_mean                0\n",
              "texture_mean               0\n",
              "perimeter_mean             0\n",
              "area_mean                  0\n",
              "smoothness_mean            0\n",
              "compactness_mean           0\n",
              "concavity_mean             0\n",
              "concave points_mean        0\n",
              "symmetry_mean              0\n",
              "fractal_dimension_mean     0\n",
              "radius_se                  0\n",
              "texture_se                 0\n",
              "perimeter_se               0\n",
              "area_se                    0\n",
              "smoothness_se              0\n",
              "compactness_se             0\n",
              "concavity_se               0\n",
              "concave points_se          0\n",
              "symmetry_se                0\n",
              "fractal_dimension_se       0\n",
              "radius_worst               0\n",
              "texture_worst              0\n",
              "perimeter_worst            0\n",
              "area_worst                 0\n",
              "smoothness_worst           0\n",
              "compactness_worst          0\n",
              "concavity_worst            0\n",
              "concave points_worst       0\n",
              "symmetry_worst             0\n",
              "fractal_dimension_worst    0\n",
              "dtype: int64"
            ]
          },
          "metadata": {},
          "execution_count": 55
        }
      ]
    },
    {
      "cell_type": "markdown",
      "source": [
        "04)"
      ],
      "metadata": {
        "id": "acCmwBkdaH9C"
      }
    },
    {
      "cell_type": "code",
      "source": [
        "#store data set again\n",
        "df = pd.read_csv(\n",
        "'/content/gdrive/My Drive/dataset.csv')"
      ],
      "metadata": {
        "id": "p25VCEUDLdB3"
      },
      "execution_count": null,
      "outputs": []
    },
    {
      "cell_type": "code",
      "source": [
        "df.isnull().sum()"
      ],
      "metadata": {
        "colab": {
          "base_uri": "https://localhost:8080/"
        },
        "id": "bZfSeO8DLhCd",
        "outputId": "867fdcea-d3e6-4efb-a07f-ea1e3c02f71d"
      },
      "execution_count": null,
      "outputs": [
        {
          "output_type": "execute_result",
          "data": {
            "text/plain": [
              "id                         0\n",
              "diagnosis                  0\n",
              "radius_mean                0\n",
              "texture_mean               2\n",
              "perimeter_mean             6\n",
              "area_mean                  7\n",
              "smoothness_mean            8\n",
              "compactness_mean           0\n",
              "concavity_mean             9\n",
              "concave points_mean        1\n",
              "symmetry_mean              3\n",
              "fractal_dimension_mean     4\n",
              "radius_se                  5\n",
              "texture_se                 3\n",
              "perimeter_se               1\n",
              "area_se                    0\n",
              "smoothness_se              0\n",
              "compactness_se             2\n",
              "concavity_se               1\n",
              "concave points_se          4\n",
              "symmetry_se                0\n",
              "fractal_dimension_se       1\n",
              "radius_worst               0\n",
              "texture_worst              0\n",
              "perimeter_worst            0\n",
              "area_worst                 0\n",
              "smoothness_worst           0\n",
              "compactness_worst          0\n",
              "concavity_worst            0\n",
              "concave points_worst       0\n",
              "symmetry_worst             0\n",
              "fractal_dimension_worst    0\n",
              "dtype: int64"
            ]
          },
          "metadata": {},
          "execution_count": 60
        }
      ]
    },
    {
      "cell_type": "code",
      "source": [
        "#discard the data points that contain missing values\n",
        "df.dropna(axis = 'rows')"
      ],
      "metadata": {
        "colab": {
          "base_uri": "https://localhost:8080/",
          "height": 505
        },
        "id": "B8RZg0UcNt4q",
        "outputId": "e9e64e58-4865-4f96-cbbb-39a155b28aa5"
      },
      "execution_count": null,
      "outputs": [
        {
          "output_type": "execute_result",
          "data": {
            "text/plain": [
              "           id diagnosis  radius_mean  texture_mean  perimeter_mean  area_mean  \\\n",
              "0      842302         M        17.99         10.38          122.80     1001.0   \n",
              "2    84300903         M        19.69         21.25          130.00     1203.0   \n",
              "4    84358402         M        20.29         14.34          135.10     1297.0   \n",
              "6      844359         M        18.25         19.98          119.60     1040.0   \n",
              "7    84458202         M        13.71         20.83           90.20      577.9   \n",
              "..        ...       ...          ...           ...             ...        ...   \n",
              "562    925622         M        15.22         30.62          103.40      716.9   \n",
              "563    926125         M        20.92         25.09          143.00     1347.0   \n",
              "566    926954         M        16.60         28.08          108.30      858.1   \n",
              "567    927241         M        20.60         29.33          140.10     1265.0   \n",
              "568     92751         B         7.76         24.54           47.92      181.0   \n",
              "\n",
              "    smoothness_mean  compactness_mean  concavity_mean  concave points_mean  \\\n",
              "0            0.1184           0.27760         0.30010              0.14710   \n",
              "2            0.1096           0.15990         0.19740              0.12790   \n",
              "4            0.1003           0.13280         0.19800              0.10430   \n",
              "6           0.09463           0.10900         0.11270              0.07400   \n",
              "7            0.1189           0.16450         0.09366              0.05985   \n",
              "..              ...               ...             ...                  ...   \n",
              "562          0.1048           0.20870         0.25500              0.09429   \n",
              "563          0.1099           0.22360         0.31740              0.14740   \n",
              "566         0.08455           0.10230         0.09251              0.05302   \n",
              "567          0.1178           0.27700         0.35140              0.15200   \n",
              "568         0.05263           0.04362         0.00000              0.00000   \n",
              "\n",
              "     ...  radius_worst  texture_worst  perimeter_worst area_worst  \\\n",
              "0    ...        25.380          17.33           184.60     2019.0   \n",
              "2    ...        23.570          25.53           152.50     1709.0   \n",
              "4    ...        22.540          16.67           152.20     1575.0   \n",
              "6    ...        22.880          27.66           153.20     1606.0   \n",
              "7    ...        17.060          28.14           110.60      897.0   \n",
              "..   ...           ...            ...              ...        ...   \n",
              "562  ...        17.520          42.79           128.70      915.0   \n",
              "563  ...        24.290          29.41           179.10     1819.0   \n",
              "566  ...        18.980          34.12           126.70     1124.0   \n",
              "567  ...        25.740          39.42           184.60     1821.0   \n",
              "568  ...         9.456          30.37            59.16      268.6   \n",
              "\n",
              "     smoothness_worst compactness_worst concavity_worst  concave points_worst  \\\n",
              "0             0.16220           0.66560          0.7119                0.2654   \n",
              "2             0.14440           0.42450          0.4504                0.2430   \n",
              "4             0.13740           0.20500          0.4000                0.1625   \n",
              "6             0.14420           0.25760          0.3784                0.1932   \n",
              "7             0.16540           0.36820          0.2678                0.1556   \n",
              "..                ...               ...             ...                   ...   \n",
              "562           0.14170           0.79170          1.1700                0.2356   \n",
              "563           0.14070           0.41860          0.6599                0.2542   \n",
              "566           0.11390           0.30940          0.3403                0.1418   \n",
              "567           0.16500           0.86810          0.9387                0.2650   \n",
              "568           0.08996           0.06444          0.0000                0.0000   \n",
              "\n",
              "    symmetry_worst fractal_dimension_worst  \n",
              "0           0.4601                 0.11890  \n",
              "2           0.3613                 0.08758  \n",
              "4           0.2364                 0.07678  \n",
              "6           0.3063                 0.08368  \n",
              "7           0.3196                 0.11510  \n",
              "..             ...                     ...  \n",
              "562         0.4089                 0.14090  \n",
              "563         0.2929                 0.09873  \n",
              "566         0.2218                 0.07820  \n",
              "567         0.4087                 0.12400  \n",
              "568         0.2871                 0.07039  \n",
              "\n",
              "[522 rows x 32 columns]"
            ],
            "text/html": [
              "\n",
              "  <div id=\"df-36e66365-e767-4b1f-bdeb-42928aeaf6cc\">\n",
              "    <div class=\"colab-df-container\">\n",
              "      <div>\n",
              "<style scoped>\n",
              "    .dataframe tbody tr th:only-of-type {\n",
              "        vertical-align: middle;\n",
              "    }\n",
              "\n",
              "    .dataframe tbody tr th {\n",
              "        vertical-align: top;\n",
              "    }\n",
              "\n",
              "    .dataframe thead th {\n",
              "        text-align: right;\n",
              "    }\n",
              "</style>\n",
              "<table border=\"1\" class=\"dataframe\">\n",
              "  <thead>\n",
              "    <tr style=\"text-align: right;\">\n",
              "      <th></th>\n",
              "      <th>id</th>\n",
              "      <th>diagnosis</th>\n",
              "      <th>radius_mean</th>\n",
              "      <th>texture_mean</th>\n",
              "      <th>perimeter_mean</th>\n",
              "      <th>area_mean</th>\n",
              "      <th>smoothness_mean</th>\n",
              "      <th>compactness_mean</th>\n",
              "      <th>concavity_mean</th>\n",
              "      <th>concave points_mean</th>\n",
              "      <th>...</th>\n",
              "      <th>radius_worst</th>\n",
              "      <th>texture_worst</th>\n",
              "      <th>perimeter_worst</th>\n",
              "      <th>area_worst</th>\n",
              "      <th>smoothness_worst</th>\n",
              "      <th>compactness_worst</th>\n",
              "      <th>concavity_worst</th>\n",
              "      <th>concave points_worst</th>\n",
              "      <th>symmetry_worst</th>\n",
              "      <th>fractal_dimension_worst</th>\n",
              "    </tr>\n",
              "  </thead>\n",
              "  <tbody>\n",
              "    <tr>\n",
              "      <th>0</th>\n",
              "      <td>842302</td>\n",
              "      <td>M</td>\n",
              "      <td>17.99</td>\n",
              "      <td>10.38</td>\n",
              "      <td>122.80</td>\n",
              "      <td>1001.0</td>\n",
              "      <td>0.1184</td>\n",
              "      <td>0.27760</td>\n",
              "      <td>0.30010</td>\n",
              "      <td>0.14710</td>\n",
              "      <td>...</td>\n",
              "      <td>25.380</td>\n",
              "      <td>17.33</td>\n",
              "      <td>184.60</td>\n",
              "      <td>2019.0</td>\n",
              "      <td>0.16220</td>\n",
              "      <td>0.66560</td>\n",
              "      <td>0.7119</td>\n",
              "      <td>0.2654</td>\n",
              "      <td>0.4601</td>\n",
              "      <td>0.11890</td>\n",
              "    </tr>\n",
              "    <tr>\n",
              "      <th>2</th>\n",
              "      <td>84300903</td>\n",
              "      <td>M</td>\n",
              "      <td>19.69</td>\n",
              "      <td>21.25</td>\n",
              "      <td>130.00</td>\n",
              "      <td>1203.0</td>\n",
              "      <td>0.1096</td>\n",
              "      <td>0.15990</td>\n",
              "      <td>0.19740</td>\n",
              "      <td>0.12790</td>\n",
              "      <td>...</td>\n",
              "      <td>23.570</td>\n",
              "      <td>25.53</td>\n",
              "      <td>152.50</td>\n",
              "      <td>1709.0</td>\n",
              "      <td>0.14440</td>\n",
              "      <td>0.42450</td>\n",
              "      <td>0.4504</td>\n",
              "      <td>0.2430</td>\n",
              "      <td>0.3613</td>\n",
              "      <td>0.08758</td>\n",
              "    </tr>\n",
              "    <tr>\n",
              "      <th>4</th>\n",
              "      <td>84358402</td>\n",
              "      <td>M</td>\n",
              "      <td>20.29</td>\n",
              "      <td>14.34</td>\n",
              "      <td>135.10</td>\n",
              "      <td>1297.0</td>\n",
              "      <td>0.1003</td>\n",
              "      <td>0.13280</td>\n",
              "      <td>0.19800</td>\n",
              "      <td>0.10430</td>\n",
              "      <td>...</td>\n",
              "      <td>22.540</td>\n",
              "      <td>16.67</td>\n",
              "      <td>152.20</td>\n",
              "      <td>1575.0</td>\n",
              "      <td>0.13740</td>\n",
              "      <td>0.20500</td>\n",
              "      <td>0.4000</td>\n",
              "      <td>0.1625</td>\n",
              "      <td>0.2364</td>\n",
              "      <td>0.07678</td>\n",
              "    </tr>\n",
              "    <tr>\n",
              "      <th>6</th>\n",
              "      <td>844359</td>\n",
              "      <td>M</td>\n",
              "      <td>18.25</td>\n",
              "      <td>19.98</td>\n",
              "      <td>119.60</td>\n",
              "      <td>1040.0</td>\n",
              "      <td>0.09463</td>\n",
              "      <td>0.10900</td>\n",
              "      <td>0.11270</td>\n",
              "      <td>0.07400</td>\n",
              "      <td>...</td>\n",
              "      <td>22.880</td>\n",
              "      <td>27.66</td>\n",
              "      <td>153.20</td>\n",
              "      <td>1606.0</td>\n",
              "      <td>0.14420</td>\n",
              "      <td>0.25760</td>\n",
              "      <td>0.3784</td>\n",
              "      <td>0.1932</td>\n",
              "      <td>0.3063</td>\n",
              "      <td>0.08368</td>\n",
              "    </tr>\n",
              "    <tr>\n",
              "      <th>7</th>\n",
              "      <td>84458202</td>\n",
              "      <td>M</td>\n",
              "      <td>13.71</td>\n",
              "      <td>20.83</td>\n",
              "      <td>90.20</td>\n",
              "      <td>577.9</td>\n",
              "      <td>0.1189</td>\n",
              "      <td>0.16450</td>\n",
              "      <td>0.09366</td>\n",
              "      <td>0.05985</td>\n",
              "      <td>...</td>\n",
              "      <td>17.060</td>\n",
              "      <td>28.14</td>\n",
              "      <td>110.60</td>\n",
              "      <td>897.0</td>\n",
              "      <td>0.16540</td>\n",
              "      <td>0.36820</td>\n",
              "      <td>0.2678</td>\n",
              "      <td>0.1556</td>\n",
              "      <td>0.3196</td>\n",
              "      <td>0.11510</td>\n",
              "    </tr>\n",
              "    <tr>\n",
              "      <th>...</th>\n",
              "      <td>...</td>\n",
              "      <td>...</td>\n",
              "      <td>...</td>\n",
              "      <td>...</td>\n",
              "      <td>...</td>\n",
              "      <td>...</td>\n",
              "      <td>...</td>\n",
              "      <td>...</td>\n",
              "      <td>...</td>\n",
              "      <td>...</td>\n",
              "      <td>...</td>\n",
              "      <td>...</td>\n",
              "      <td>...</td>\n",
              "      <td>...</td>\n",
              "      <td>...</td>\n",
              "      <td>...</td>\n",
              "      <td>...</td>\n",
              "      <td>...</td>\n",
              "      <td>...</td>\n",
              "      <td>...</td>\n",
              "      <td>...</td>\n",
              "    </tr>\n",
              "    <tr>\n",
              "      <th>562</th>\n",
              "      <td>925622</td>\n",
              "      <td>M</td>\n",
              "      <td>15.22</td>\n",
              "      <td>30.62</td>\n",
              "      <td>103.40</td>\n",
              "      <td>716.9</td>\n",
              "      <td>0.1048</td>\n",
              "      <td>0.20870</td>\n",
              "      <td>0.25500</td>\n",
              "      <td>0.09429</td>\n",
              "      <td>...</td>\n",
              "      <td>17.520</td>\n",
              "      <td>42.79</td>\n",
              "      <td>128.70</td>\n",
              "      <td>915.0</td>\n",
              "      <td>0.14170</td>\n",
              "      <td>0.79170</td>\n",
              "      <td>1.1700</td>\n",
              "      <td>0.2356</td>\n",
              "      <td>0.4089</td>\n",
              "      <td>0.14090</td>\n",
              "    </tr>\n",
              "    <tr>\n",
              "      <th>563</th>\n",
              "      <td>926125</td>\n",
              "      <td>M</td>\n",
              "      <td>20.92</td>\n",
              "      <td>25.09</td>\n",
              "      <td>143.00</td>\n",
              "      <td>1347.0</td>\n",
              "      <td>0.1099</td>\n",
              "      <td>0.22360</td>\n",
              "      <td>0.31740</td>\n",
              "      <td>0.14740</td>\n",
              "      <td>...</td>\n",
              "      <td>24.290</td>\n",
              "      <td>29.41</td>\n",
              "      <td>179.10</td>\n",
              "      <td>1819.0</td>\n",
              "      <td>0.14070</td>\n",
              "      <td>0.41860</td>\n",
              "      <td>0.6599</td>\n",
              "      <td>0.2542</td>\n",
              "      <td>0.2929</td>\n",
              "      <td>0.09873</td>\n",
              "    </tr>\n",
              "    <tr>\n",
              "      <th>566</th>\n",
              "      <td>926954</td>\n",
              "      <td>M</td>\n",
              "      <td>16.60</td>\n",
              "      <td>28.08</td>\n",
              "      <td>108.30</td>\n",
              "      <td>858.1</td>\n",
              "      <td>0.08455</td>\n",
              "      <td>0.10230</td>\n",
              "      <td>0.09251</td>\n",
              "      <td>0.05302</td>\n",
              "      <td>...</td>\n",
              "      <td>18.980</td>\n",
              "      <td>34.12</td>\n",
              "      <td>126.70</td>\n",
              "      <td>1124.0</td>\n",
              "      <td>0.11390</td>\n",
              "      <td>0.30940</td>\n",
              "      <td>0.3403</td>\n",
              "      <td>0.1418</td>\n",
              "      <td>0.2218</td>\n",
              "      <td>0.07820</td>\n",
              "    </tr>\n",
              "    <tr>\n",
              "      <th>567</th>\n",
              "      <td>927241</td>\n",
              "      <td>M</td>\n",
              "      <td>20.60</td>\n",
              "      <td>29.33</td>\n",
              "      <td>140.10</td>\n",
              "      <td>1265.0</td>\n",
              "      <td>0.1178</td>\n",
              "      <td>0.27700</td>\n",
              "      <td>0.35140</td>\n",
              "      <td>0.15200</td>\n",
              "      <td>...</td>\n",
              "      <td>25.740</td>\n",
              "      <td>39.42</td>\n",
              "      <td>184.60</td>\n",
              "      <td>1821.0</td>\n",
              "      <td>0.16500</td>\n",
              "      <td>0.86810</td>\n",
              "      <td>0.9387</td>\n",
              "      <td>0.2650</td>\n",
              "      <td>0.4087</td>\n",
              "      <td>0.12400</td>\n",
              "    </tr>\n",
              "    <tr>\n",
              "      <th>568</th>\n",
              "      <td>92751</td>\n",
              "      <td>B</td>\n",
              "      <td>7.76</td>\n",
              "      <td>24.54</td>\n",
              "      <td>47.92</td>\n",
              "      <td>181.0</td>\n",
              "      <td>0.05263</td>\n",
              "      <td>0.04362</td>\n",
              "      <td>0.00000</td>\n",
              "      <td>0.00000</td>\n",
              "      <td>...</td>\n",
              "      <td>9.456</td>\n",
              "      <td>30.37</td>\n",
              "      <td>59.16</td>\n",
              "      <td>268.6</td>\n",
              "      <td>0.08996</td>\n",
              "      <td>0.06444</td>\n",
              "      <td>0.0000</td>\n",
              "      <td>0.0000</td>\n",
              "      <td>0.2871</td>\n",
              "      <td>0.07039</td>\n",
              "    </tr>\n",
              "  </tbody>\n",
              "</table>\n",
              "<p>522 rows × 32 columns</p>\n",
              "</div>\n",
              "      <button class=\"colab-df-convert\" onclick=\"convertToInteractive('df-36e66365-e767-4b1f-bdeb-42928aeaf6cc')\"\n",
              "              title=\"Convert this dataframe to an interactive table.\"\n",
              "              style=\"display:none;\">\n",
              "        \n",
              "  <svg xmlns=\"http://www.w3.org/2000/svg\" height=\"24px\"viewBox=\"0 0 24 24\"\n",
              "       width=\"24px\">\n",
              "    <path d=\"M0 0h24v24H0V0z\" fill=\"none\"/>\n",
              "    <path d=\"M18.56 5.44l.94 2.06.94-2.06 2.06-.94-2.06-.94-.94-2.06-.94 2.06-2.06.94zm-11 1L8.5 8.5l.94-2.06 2.06-.94-2.06-.94L8.5 2.5l-.94 2.06-2.06.94zm10 10l.94 2.06.94-2.06 2.06-.94-2.06-.94-.94-2.06-.94 2.06-2.06.94z\"/><path d=\"M17.41 7.96l-1.37-1.37c-.4-.4-.92-.59-1.43-.59-.52 0-1.04.2-1.43.59L10.3 9.45l-7.72 7.72c-.78.78-.78 2.05 0 2.83L4 21.41c.39.39.9.59 1.41.59.51 0 1.02-.2 1.41-.59l7.78-7.78 2.81-2.81c.8-.78.8-2.07 0-2.86zM5.41 20L4 18.59l7.72-7.72 1.47 1.35L5.41 20z\"/>\n",
              "  </svg>\n",
              "      </button>\n",
              "      \n",
              "  <style>\n",
              "    .colab-df-container {\n",
              "      display:flex;\n",
              "      flex-wrap:wrap;\n",
              "      gap: 12px;\n",
              "    }\n",
              "\n",
              "    .colab-df-convert {\n",
              "      background-color: #E8F0FE;\n",
              "      border: none;\n",
              "      border-radius: 50%;\n",
              "      cursor: pointer;\n",
              "      display: none;\n",
              "      fill: #1967D2;\n",
              "      height: 32px;\n",
              "      padding: 0 0 0 0;\n",
              "      width: 32px;\n",
              "    }\n",
              "\n",
              "    .colab-df-convert:hover {\n",
              "      background-color: #E2EBFA;\n",
              "      box-shadow: 0px 1px 2px rgba(60, 64, 67, 0.3), 0px 1px 3px 1px rgba(60, 64, 67, 0.15);\n",
              "      fill: #174EA6;\n",
              "    }\n",
              "\n",
              "    [theme=dark] .colab-df-convert {\n",
              "      background-color: #3B4455;\n",
              "      fill: #D2E3FC;\n",
              "    }\n",
              "\n",
              "    [theme=dark] .colab-df-convert:hover {\n",
              "      background-color: #434B5C;\n",
              "      box-shadow: 0px 1px 3px 1px rgba(0, 0, 0, 0.15);\n",
              "      filter: drop-shadow(0px 1px 2px rgba(0, 0, 0, 0.3));\n",
              "      fill: #FFFFFF;\n",
              "    }\n",
              "  </style>\n",
              "\n",
              "      <script>\n",
              "        const buttonEl =\n",
              "          document.querySelector('#df-36e66365-e767-4b1f-bdeb-42928aeaf6cc button.colab-df-convert');\n",
              "        buttonEl.style.display =\n",
              "          google.colab.kernel.accessAllowed ? 'block' : 'none';\n",
              "\n",
              "        async function convertToInteractive(key) {\n",
              "          const element = document.querySelector('#df-36e66365-e767-4b1f-bdeb-42928aeaf6cc');\n",
              "          const dataTable =\n",
              "            await google.colab.kernel.invokeFunction('convertToInteractive',\n",
              "                                                     [key], {});\n",
              "          if (!dataTable) return;\n",
              "\n",
              "          const docLinkHtml = 'Like what you see? Visit the ' +\n",
              "            '<a target=\"_blank\" href=https://colab.research.google.com/notebooks/data_table.ipynb>data table notebook</a>'\n",
              "            + ' to learn more about interactive tables.';\n",
              "          element.innerHTML = '';\n",
              "          dataTable['output_type'] = 'display_data';\n",
              "          await google.colab.output.renderOutput(dataTable, element);\n",
              "          const docLink = document.createElement('div');\n",
              "          docLink.innerHTML = docLinkHtml;\n",
              "          element.appendChild(docLink);\n",
              "        }\n",
              "      </script>\n",
              "    </div>\n",
              "  </div>\n",
              "  "
            ]
          },
          "metadata": {},
          "execution_count": 61
        }
      ]
    },
    {
      "cell_type": "markdown",
      "source": [
        "05)"
      ],
      "metadata": {
        "id": "BcAgt9C2ac6e"
      }
    },
    {
      "cell_type": "code",
      "source": [
        "#import matplotlib and seaborn to draw boxplot\n",
        "import matplotlib.pyplot as plt\n",
        "import seaborn as sns\n"
      ],
      "metadata": {
        "id": "G1_BeKAUOZ2C"
      },
      "execution_count": null,
      "outputs": []
    },
    {
      "cell_type": "code",
      "source": [
        "#draw boxplot using below columns\n",
        "np.random.seed(123456789)\n",
        "df = pd.DataFrame(np.random.randn(10, 30),\n",
        "                  columns=['diagnosis', 'radius_mean', 'texture_mean','area_mean','smoothness_mean','compactness_mean','concavity_mean','concave points_mean',\n",
        "                             'symmetry_mean','fractal_dimension_mean','radius_se','texture_se','perimeter_se','area_se','smoothness_se','compactness_se',\n",
        "                             'concavity_se','concave points_se','symmetry_se','fractal_dimension_se','radius_worst','texture_worst','perimeter_worst','area_worst','smoothness_worst',\n",
        "                             'compactness_worst','concavity_worst','concave points_worst','symmetry_worst','fractal_dimension_worst'])\n",
        "boxplot = df.boxplot(column=['diagnosis', 'radius_mean', 'texture_mean','area_mean','smoothness_mean','compactness_mean','concavity_mean','concave points_mean',\n",
        "                             'symmetry_mean','fractal_dimension_mean','radius_se','texture_se','perimeter_se','area_se','smoothness_se','compactness_se',\n",
        "                             'concavity_se','concave points_se','symmetry_se','fractal_dimension_se','radius_worst','texture_worst','perimeter_worst','area_worst','smoothness_worst',\n",
        "                             'compactness_worst','concavity_worst','concave points_worst','symmetry_worst'])\n"
      ],
      "metadata": {
        "colab": {
          "base_uri": "https://localhost:8080/",
          "height": 266
        },
        "id": "5ZYqGnlVRCfg",
        "outputId": "b6cce71c-20cd-491e-ef68-4c85f6b71925"
      },
      "execution_count": null,
      "outputs": [
        {
          "output_type": "display_data",
          "data": {
            "text/plain": [
              "<Figure size 432x288 with 1 Axes>"
            ],
            "image/png": "[encoded data removed]"
          },
          "metadata": {
            "needs_background": "light"
          }
        }
      ]
    },
    {
      "cell_type": "markdown",
      "source": [
        "High valus - 4 ( grater than 2)\n",
        "Low values - 2 (less than -2)\n"
      ],
      "metadata": {
        "id": "Iz8piK2QWgxb"
      }
    },
    {
      "cell_type": "markdown",
      "source": [
        "07)"
      ],
      "metadata": {
        "id": "qL_ANPguY2Cb"
      }
    },
    {
      "cell_type": "code",
      "source": [
        "#Check for duplicate instances in the breast cancer dataset\n",
        "df.duplicated()\n"
      ],
      "metadata": {
        "colab": {
          "base_uri": "https://localhost:8080/"
        },
        "id": "GE32lOrOXbEg",
        "outputId": "ec0e8578-6583-4966-a346-da372cc088c2"
      },
      "execution_count": null,
      "outputs": [
        {
          "output_type": "execute_result",
          "data": {
            "text/plain": [
              "0    False\n",
              "1    False\n",
              "2    False\n",
              "3    False\n",
              "4    False\n",
              "5    False\n",
              "6    False\n",
              "7    False\n",
              "8    False\n",
              "9    False\n",
              "dtype: bool"
            ]
          },
          "metadata": {},
          "execution_count": 87
        }
      ]
    },
    {
      "cell_type": "markdown",
      "source": [
        "08)"
      ],
      "metadata": {
        "id": "Mi6oGFO2ZGZY"
      }
    },
    {
      "cell_type": "code",
      "source": [
        "#drop all duplicates\n",
        "df = df.drop_duplicates()"
      ],
      "metadata": {
        "id": "PEy9XbhpXisv"
      },
      "execution_count": null,
      "outputs": []
    },
    {
      "cell_type": "code",
      "source": [
        "#identify number of features for new dataset after dropping duplicates\n",
        "df.shape"
      ],
      "metadata": {
        "colab": {
          "base_uri": "https://localhost:8080/"
        },
        "id": "XZOyOciaXkTm",
        "outputId": "aa4ebee4-7422-47ec-967b-5868ca9afe9c"
      },
      "execution_count": null,
      "outputs": [
        {
          "output_type": "execute_result",
          "data": {
            "text/plain": [
              "(10, 30)"
            ]
          },
          "metadata": {},
          "execution_count": 92
        }
      ]
    },
    {
      "cell_type": "markdown",
      "source": [
        "10)"
      ],
      "metadata": {
        "id": "1bSMDyZXekDK"
      }
    },
    {
      "cell_type": "code",
      "source": [
        "#assign number of rows to x variable\n",
        "x = np.random.normal(size=10)\n"
      ],
      "metadata": {
        "id": "ShlS7p-6bzxO"
      },
      "execution_count": null,
      "outputs": []
    },
    {
      "cell_type": "code",
      "source": [
        "#draw histogram by passing parameters\n",
        "sns.distplot(x, kde=False, bins=10)"
      ],
      "metadata": {
        "colab": {
          "base_uri": "https://localhost:8080/",
          "height": 337
        },
        "id": "CQlDMRiGeNus",
        "outputId": "bfe1fe56-f04e-48e3-acff-005be6ca1d4f"
      },
      "execution_count": null,
      "outputs": [
        {
          "output_type": "stream",
          "name": "stderr",
          "text": [
            "/usr/local/lib/python3.7/dist-packages/seaborn/distributions.py:2619: FutureWarning: `distplot` is a deprecated function and will be removed in a future version. Please adapt your code to use either `displot` (a figure-level function with similar flexibility) or `histplot` (an axes-level function for histograms).\n",
            "  warnings.warn(msg, FutureWarning)\n"
          ]
        },
        {
          "output_type": "execute_result",
          "data": {
            "text/plain": [
              "<matplotlib.axes._subplots.AxesSubplot at 0x7f477b677a50>"
            ]
          },
          "metadata": {},
          "execution_count": 110
        },
        {
          "output_type": "display_data",
          "data": {
            "text/plain": [
              "<Figure size 432x288 with 1 Axes>"
            ],
            "image/png": "[encoded data removed]"
          },
          "metadata": {
            "needs_background": "light"
          }
        }
      ]
    }
  ]
}